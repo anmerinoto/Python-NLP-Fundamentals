{
 "cells": [
  {
   "cell_type": "markdown",
   "id": "a2c37c33-fd3c-4b3a-bbf5-661d29798421",
   "metadata": {},
   "source": [
    "# Python Text Analysis: Part 2 Solutions"
   ]
  },
  {
   "cell_type": "code",
   "execution_count": 1,
   "id": "4f340930-458d-4c63-939f-91ef765b8ef4",
   "metadata": {},
   "outputs": [],
   "source": [
    "import re\n",
    "import numpy as np\n",
    "import pandas as pd\n",
    "import matplotlib.pyplot as plt\n",
    "from sklearn.feature_extraction.text import TfidfVectorizer\n",
    "%matplotlib inline"
   ]
  },
  {
   "cell_type": "code",
   "execution_count": 2,
   "id": "40b47991-a10b-4f6d-b4e9-188a4644d719",
   "metadata": {},
   "outputs": [],
   "source": [
    "# Use pandas to import tweets\n",
    "tweets_path = '../data/airline_tweets.csv'\n",
    "tweets = pd.read_csv(tweets_path, sep=',')"
   ]
  },
  {
   "cell_type": "markdown",
   "id": "984af902-74f5-4244-a511-08d33bdf6776",
   "metadata": {},
   "source": [
    "## 🥊 Desafío 1: Aplicar una canalización de limpieza de texto\n",
    "\n",
    "Escribe una función llamada `preprocess` que realice los siguientes pasos en una entrada de texto:\n",
    "\n",
    "* Paso 1: Convertir el texto a minúsculas.\n",
    "* Paso 2: Reemplazar los siguientes patrones con marcadores de posición:\n",
    "* URLs &rarr; ` URL `\n",
    "* Dígitos &rarr; ` DIGIT `\n",
    "* Hashtags &rarr; ` HASHTAG `\n",
    "* Usuarios de tweets &rarr; ` USER `\n",
    "* Paso 3: Eliminar los espacios en blanco adicionales.\n",
    "\n",
    "Aquí tienes algunas sugerencias para guiarte en este desafío:\n",
    "\n",
    "* Para el Paso 1, recuerda de la Parte 1 que se puede usar un método de cadena llamado [`.lower()`](https://docs.python.org/3.11/library/stdtypes.html#str.lower) para convertir texto a minúsculas.\n",
    "* Hemos integrado el Paso 2 en una función llamada `placeholder`. Ejecuta la celda a continuación para importarla a tu notebook y podrás usarla como cualquier otra función.\n",
    "* Para el paso 3, proporcionamos el patrón de expresiones regulares para identificar espacios en blanco, así como el reemplazo correcto para extraer espacios en blanco.\n",
    "\n",
    "Ejecuta la función `preprocess` en `example_tweet` (tres celdas a continuación) para comprobar si funciona. Si funciona, aplícala a toda la columna `text` del dataframe de tweets."
   ]
  },
  {
   "cell_type": "code",
   "execution_count": 2,
   "id": "6f0a69c0-d541-4776-a4b7-9b5250a11db8",
   "metadata": {},
   "outputs": [
    {
     "name": "stderr",
     "output_type": "stream",
     "text": [
      "c:\\Users\\fmerino\\Documents\\GitHub\\Python-NLP-Fundamentals\\solutions\\utils.py:4: SyntaxWarning: invalid escape sequence '\\d'\n",
      "  digit_pattern = '\\d+'\n",
      "c:\\Users\\fmerino\\Documents\\GitHub\\Python-NLP-Fundamentals\\solutions\\utils.py:14: SyntaxWarning: invalid escape sequence '\\d'\n",
      "  digit_pattern = '\\d+'\n"
     ]
    }
   ],
   "source": [
    "from utils import placeholder"
   ]
  },
  {
   "cell_type": "code",
   "execution_count": 4,
   "id": "360c3fe7-c67d-4636-96e2-00c59d2e9f49",
   "metadata": {},
   "outputs": [],
   "source": [
    "blankspace_pattern = r'\\s+'\n",
    "blankspace_repl = ' '\n",
    "\n",
    "def preprocess(text):\n",
    "    '''Create a preprocess pipeline that cleans the tweet data.'''\n",
    "\n",
    "    # Step 1: Lowercase\n",
    "    text = text.lower()\n",
    "\n",
    "    # Step 2: Replace patterns with placeholders\n",
    "    text = placeholder(text)\n",
    "\n",
    "    # Step 3: Remove extra whitespace characters\n",
    "    text = re.sub(blankspace_pattern, blankspace_repl, text)\n",
    "    text = text.strip()\n",
    "    \n",
    "    return text"
   ]
  },
  {
   "cell_type": "code",
   "execution_count": 5,
   "id": "fb0689b0-4c1f-4f85-b097-8c893db520eb",
   "metadata": {},
   "outputs": [],
   "source": [
    "example_tweet = 'lol @justinbeiber and @BillGates are like soo 2000 #yesterday #amiright saw it on https://twitter.com #yolo'"
   ]
  },
  {
   "cell_type": "code",
   "execution_count": null,
   "id": "88c019fc-6de0-415a-8a58-6e7580d909f8",
   "metadata": {},
   "outputs": [],
   "source": [
    "# Apply the function to the example tweet\n",
    "print(example_tweet)\n",
    "print(f\"{'='*50}\")\n",
    "print(preprocess(example_tweet))"
   ]
  },
  {
   "cell_type": "code",
   "execution_count": null,
   "id": "04305f16-edc0-4274-bb56-b59005cea2dd",
   "metadata": {},
   "outputs": [],
   "source": [
    "# Apply the function to the text column and assign the preprocessed tweets to a new column\n",
    "tweets['text_processed'] = tweets['text'].apply(lambda x: preprocess(x))\n",
    "tweets['text_processed'].head()"
   ]
  },
  {
   "cell_type": "markdown",
   "id": "69fe22dc",
   "metadata": {},
   "source": [
    "📌 Función preprocess.py"
   ]
  },
  {
   "cell_type": "code",
   "execution_count": null,
   "id": "ed3f7a4b",
   "metadata": {},
   "outputs": [],
   "source": [
    "from utils import placeholder\n",
    "import re   # 👈 asegúrate de importarlo arriba\n",
    "\n",
    "blankspace_pattern = r'\\s+'\n",
    "blankspace_repl = ' '\n",
    "\n",
    "def preprocess(text):\n",
    "    '''Create a preprocess pipeline that cleans the tweet data.'''\n",
    "\n",
    "    # Paso 1: Convertir a minúsculas\n",
    "    text = text.lower()\n",
    "\n",
    "    # Paso 2: Reemplazar patrones con marcadores de posición\n",
    "    # - URLs -> URL\n",
    "    # - Dígitos -> DIGIT\n",
    "    # - Hashtags -> HASHTAG\n",
    "    # - Usuarios de Twitter -> USER\n",
    "    text = placeholder(text)\n",
    "\n",
    "    # Paso 3: Eliminar espacios en blanco adicionales\n",
    "    text = re.sub(blankspace_pattern, blankspace_repl, text)\n",
    "    text = text.strip()\n",
    "    \n",
    "    return text\n",
    "\n",
    "\n",
    "# Prueba\n",
    "example_tweet = \"Check this out! https://huggingface.co #NLP @openai 2025\"\n",
    "print(preprocess(example_tweet))\n"
   ]
  },
  {
   "cell_type": "markdown",
   "id": "543da00b",
   "metadata": {},
   "source": [
    "🔎 Explicación paso a paso\n",
    "\n",
    "Minúsculas\n",
    "Normaliza todo el texto (.lower()).\n",
    "Ej: \"HELLO Twitter!!!\" → \"hello twitter!!!\"\n",
    "\n",
    "Reemplazo con placeholders\n",
    "La función placeholder(text) (definida en utils.py) busca patrones y los reemplaza:\n",
    "\n",
    "http://... o https://... → URL\n",
    "\n",
    "números (123, 2025) → DIGIT\n",
    "\n",
    "hashtags (#AI) → HASHTAG\n",
    "\n",
    "usuarios (@elonmusk) → USER\n",
    "\n",
    "Espacios en blanco extra\n",
    "\n",
    "re.sub(blankspace_pattern, blankspace_repl, text) convierte cualquier secuencia de espacios/tabulaciones/saltos de línea en un único espacio.\n",
    "\n",
    ".strip() elimina espacios al inicio o al final."
   ]
  },
  {
   "cell_type": "markdown",
   "id": "17f4f3db",
   "metadata": {},
   "source": [
    "🧪 Ejemplo de uso\n",
    "\n",
    "example_tweet = \"Check this out! https://huggingface.co #NLP @openai 2025\"\n",
    "\n",
    "print(preprocess(example_tweet))\n"
   ]
  },
  {
   "cell_type": "markdown",
   "id": "2c338c41",
   "metadata": {},
   "source": [
    "✅ Salida esperada:\n",
    "\n",
    "check [this out](https://huggingface.co/) url hashtag user digit"
   ]
  },
  {
   "cell_type": "markdown",
   "id": "9eea8f47-58f0-4547-a2f0-dddb62940e15",
   "metadata": {},
   "source": [
    "## 🥊 Desafío 2: Segmentar (Lematizar) la entrada de texto\n",
    "\n",
    "Recuerde que en la Parte 1 introdujimos el uso de `spaCy` para realizar la lematización, es decir, para recuperar la forma base de una palabra. Este proceso reducirá el tamaño del vocabulario al minimizar las variaciones de palabras; un vocabulario más pequeño puede ayudar a mejorar el rendimiento del modelo en la clasificación de sentimientos.\n",
    "\n",
    "Ahora implementemos la lematización en nuestros datos de tweets y usemos el texto lematizado para crear un tercer DTM.\n",
    "\n",
    "Complete la función `lemmatize_text`. Requiere una entrada de texto y devuelve los lemas de todos los tokens.\n",
    "\n",
    "Aquí tienes algunas sugerencias para guiarte en este desafío:\n",
    "\n",
    "- Paso 1: Inicializa una lista para almacenar lemas\n",
    "- Paso 2: Aplica la secuencia `nlp` al texto de entrada\n",
    "- Paso 3: Itera sobre los tokens en el texto procesado y recupera el lema del token\n",
    "- PISTA: La lematización es una de las anotaciones lingüísticas que la secuencia `nlp` realiza automáticamente. Podemos usar `token.lemma_` para acceder a la anotación."
   ]
  },
  {
   "cell_type": "code",
   "execution_count": null,
   "id": "3e88bc0e-2666-44c0-b75f-611cb6457602",
   "metadata": {},
   "outputs": [],
   "source": [
    "# Import spaCy\n",
    "import spacy\n",
    "nlp = spacy.load('en_core_web_sm')"
   ]
  },
  {
   "cell_type": "code",
   "execution_count": null,
   "id": "b86bd8e1-a461-4f25-84aa-de95eb5d1f23",
   "metadata": {},
   "outputs": [],
   "source": [
    "# Create a function to lemmatize text\n",
    "def lemmatize_text(text):\n",
    "    '''Lemmatize the text input with spaCy annotations.'''\n",
    "\n",
    "    # Step 1: Initialize an empty list to hold lemmas\n",
    "    lemma = []\n",
    "\n",
    "    # Step 2: Apply the nlp pipeline to input text\n",
    "    doc = nlp(text)\n",
    "\n",
    "    # Step 3: Iterate over tokens in the text to get the token lemma\n",
    "    for token in doc:\n",
    "        lemma.append(token.lemma_)\n",
    "\n",
    "    # Step 4: Join lemmas together into a single string\n",
    "    text_lemma = ' '.join(lemma)\n",
    "    \n",
    "    return text_lemma"
   ]
  },
  {
   "cell_type": "code",
   "execution_count": 10,
   "id": "bcbabf36-07ff-4ad0-bf8f-bc94cf32da46",
   "metadata": {},
   "outputs": [
    {
     "name": "stdout",
     "output_type": "stream",
     "text": [
      "USER why must a traveler miss a flight to late flight check a bag? i missed my morning appointments and you lost my business. HASHTAG DIGIT lax\n",
      "==================================================\n",
      "USER why must a traveler miss a flight to late flight check a bag ? I miss my morning appointment and you lose my business . HASHTAG DIGIT lax\n"
     ]
    }
   ],
   "source": [
    "# Apply the function to an example tweet\n",
    "print(tweets.iloc[101][\"text_processed\"])\n",
    "print(f\"{'='*50}\")\n",
    "print(lemmatize_text(tweets.iloc[101]['text_processed']))"
   ]
  },
  {
   "cell_type": "code",
   "execution_count": 11,
   "id": "e5eea277-8f00-42c9-9a2e-5a6d802378a3",
   "metadata": {},
   "outputs": [],
   "source": [
    "# This may take a while!\n",
    "tweets['text_lemmatized'] = tweets['text_processed'].apply(lambda x: lemmatize_text(x))"
   ]
  },
  {
   "cell_type": "code",
   "execution_count": 12,
   "id": "b0592b67-64a8-4b3b-b22e-4bd6731a3e5a",
   "metadata": {},
   "outputs": [
    {
     "name": "stdout",
     "output_type": "stream",
     "text": [
      "USER why must a traveler miss a flight to late flight check a bag? i missed my morning appointments and you lost my business. HASHTAG DIGIT lax\n",
      "==================================================\n",
      "USER why must a traveler miss a flight to late flight check a bag ? I miss my morning appointment and you lose my business . HASHTAG DIGIT lax\n"
     ]
    }
   ],
   "source": [
    "# Print the preprocessed tweet\n",
    "print(tweets['text_processed'].iloc[101])\n",
    "print(f\"{'='*50}\")\n",
    "# Print the lemmatized tweet\n",
    "print(tweets['text_lemmatized'].iloc[101])"
   ]
  },
  {
   "cell_type": "markdown",
   "id": "e894bda4",
   "metadata": {},
   "source": [
    "📌 Función lemmatize_tweets.py"
   ]
  },
  {
   "cell_type": "code",
   "execution_count": null,
   "id": "6a309a73",
   "metadata": {},
   "outputs": [],
   "source": [
    "#!/usr/bin/env python\n",
    "# -*- coding: utf-8 -*-\n",
    "\n",
    "\"\"\"\n",
    "lemmatize_tweets.py\n",
    "Programa para lematizar texto (tweets) con spaCy.\n",
    "- Lee un CSV (columna 'text' o 'text_processed')\n",
    "- Crea la columna 'text_lemmatized'\n",
    "- Imprime un ejemplo y guarda el resultado si se indica --out\n",
    "\n",
    "Uso:\n",
    "  python lemmatize_tweets.py --in data/tweets.csv --col text_processed --lang en --out data/tweets_lemmatized.csv\n",
    "  python lemmatize_tweets.py --text \"Dogs are running fast!\" --lang en\n",
    "\"\"\"\n",
    "\n",
    "import argparse\n",
    "import sys\n",
    "import pandas as pd\n",
    "\n",
    "def load_spacy_model(lang: str):\n",
    "    import spacy\n",
    "    model_map = {\n",
    "        \"en\": \"en_core_web_sm\",\n",
    "        \"es\": \"es_core_news_sm\",\n",
    "    }\n",
    "    name = model_map.get(lang.lower())\n",
    "    if not name:\n",
    "        raise ValueError(f\"Idioma no soportado: {lang}. Usa 'en' o 'es'.\")\n",
    "\n",
    "    try:\n",
    "        nlp = spacy.load(name, disable=[\"parser\", \"ner\"])\n",
    "        return nlp\n",
    "    except OSError:\n",
    "        msg = (\n",
    "            f\"No se encontró el modelo '{name}'.\\n\"\n",
    "            f\"Instálalo con:\\n\"\n",
    "            f\"  python -m spacy download {name}\\n\"\n",
    "        )\n",
    "        raise RuntimeError(msg)\n",
    "\n",
    "def lemmatize_text(text: str, nlp, drop_stopwords: bool = False, only_alpha: bool = False) -> str:\n",
    "    \"\"\"\n",
    "    Lematiza el texto. Opcionalmente elimina stopwords y tokens no alfabéticos.\n",
    "    \"\"\"\n",
    "    if not isinstance(text, str):\n",
    "        text = \"\" if pd.isna(text) else str(text)\n",
    "\n",
    "    doc = nlp(text)\n",
    "    lemmas = []\n",
    "    for tok in doc:\n",
    "        if only_alpha and not tok.is_alpha:\n",
    "            continue\n",
    "        if drop_stopwords and tok.is_stop:\n",
    "            continue\n",
    "        # .lemma_ ya devuelve la forma base\n",
    "        lemmas.append(tok.lemma_)\n",
    "    return \" \".join(lemmas)\n",
    "\n",
    "def main():\n",
    "    parser = argparse.ArgumentParser(description=\"Lematizar textos/tweets con spaCy.\")\n",
    "    parser.add_argument(\"--in\", dest=\"in_path\", type=str, help=\"Ruta CSV de entrada (opcional si usas --text)\")\n",
    "    parser.add_argument(\"--col\", dest=\"col_name\", type=str, default=None,\n",
    "                        help=\"Nombre de la columna a procesar (por defecto intenta 'text_processed' y luego 'text').\")\n",
    "    parser.add_argument(\"--out\", dest=\"out_path\", type=str, default=None, help=\"Ruta CSV de salida (opcional).\")\n",
    "    parser.add_argument(\"--lang\", dest=\"lang\", type=str, default=\"en\", choices=[\"en\", \"es\"],\n",
    "                        help=\"Idioma del modelo spaCy: en | es (por defecto: en).\")\n",
    "    parser.add_argument(\"--text\", dest=\"single_text\", type=str, default=None,\n",
    "                        help=\"Texto único a lematizar (si no usas CSV).\")\n",
    "    parser.add_argument(\"--drop-stopwords\", action=\"store_true\", help=\"Eliminar stopwords durante lematización.\")\n",
    "    parser.add_argument(\"--only-alpha\", action=\"store_true\", help=\"Conservar solo tokens alfabéticos.\")\n",
    "    args = parser.parse_args()\n",
    "\n",
    "    # Cargar modelo\n",
    "    try:\n",
    "        nlp = load_spacy_model(args.lang)\n",
    "    except Exception as e:\n",
    "        print(str(e), file=sys.stderr)\n",
    "        sys.exit(1)\n",
    "\n",
    "    # Caso 1: texto único\n",
    "    if args.single_text is not None:\n",
    "        result = lemmatize_text(args.single_text, nlp, drop_stopwords=args.drop_stopwords, only_alpha=args.only_alpha)\n",
    "        print(result)\n",
    "        sys.exit(0)\n",
    "\n",
    "    # Caso 2: CSV\n",
    "    if not args.in_path:\n",
    "        print(\"Error: debes proporcionar --in <ruta.csv> o --text \\\"...\\\"\", file=sys.stderr)\n",
    "        sys.exit(1)\n",
    "\n",
    "    df = pd.read_csv(args.in_path)\n",
    "\n",
    "    # Resolver columna a procesar\n",
    "    col = args.col_name\n",
    "    if col is None:\n",
    "        if \"text_processed\" in df.columns:\n",
    "            col = \"text_processed\"\n",
    "        elif \"text\" in df.columns:\n",
    "            col = \"text\"\n",
    "        else:\n",
    "            print(\"No se encontró columna 'text_processed' ni 'text'. Usa --col para indicar la columna.\", file=sys.stderr)\n",
    "            sys.exit(1)\n",
    "\n",
    "    if col not in df.columns:\n",
    "        print(f\"La columna '{col}' no existe en el CSV.\", file=sys.stderr)\n",
    "        sys.exit(1)\n",
    "\n",
    "    # Lematizar toda la columna\n",
    "    df[\"text_lemmatized\"] = df[col].apply(\n",
    "        lambda x: lemmatize_text(x, nlp, drop_stopwords=args.drop_stopwords, only_alpha=args.only_alpha)\n",
    "    )\n",
    "\n",
    "    # Mostrar ejemplo (fila 101 si existe)\n",
    "    if len(df) > 101:\n",
    "        print(df[col].iloc[101])\n",
    "        print(\"=\" * 50)\n",
    "        print(df[\"text_lemmatized\"].iloc[101])\n",
    "\n",
    "    # Guardar si se indicó salida\n",
    "    if args.out_path:\n",
    "        df.to_csv(args.out_path, index=False)\n",
    "        print(f\"✅ Archivo guardado en: {args.out_path}\")\n",
    "    else:\n",
    "        # Muestra las primeras filas como vista previa\n",
    "        print(df[[col, \"text_lemmatized\"]].head())\n",
    "\n",
    "if __name__ == \"__main__\":\n",
    "    main()\n"
   ]
  },
  {
   "cell_type": "markdown",
   "id": "0ab23062",
   "metadata": {},
   "source": [
    "✅ Salida esperada:"
   ]
  },
  {
   "cell_type": "code",
   "execution_count": null,
   "id": "b3aac5f6",
   "metadata": {},
   "outputs": [],
   "source": [
    "(.venv312) PS C:\\Users\\fmerino\\Documents\\GitHub\\Python-NLP-Fundamentals\\solutions> python lemmatize_tweets.py --in ../data/tweets.csv --col text --lang es --out ../data/tweets_lemmatized.csv\n",
    "✅ Archivo guardado en: ../data/tweets_lemmatized.csv"
   ]
  },
  {
   "cell_type": "markdown",
   "id": "579a365d",
   "metadata": {},
   "source": [
    "**Archivo csv: tweets.csv**"
   ]
  },
  {
   "cell_type": "markdown",
   "id": "3bc355d3",
   "metadata": {},
   "source": [
    "+ id,text\n",
    "+ 1,\"Mira este artículo sobre PLN https://huggingface.co #NLP @usuario 2025\"\n",
    "+ 2,\"¡Hola Twitter! Probando mi primera publicación :)\"\n",
    "+ 3,\"Me encanta aprender Machine Learning y Deep Learning #IA #ML\"\n",
    "+ 4,\"Los perros corren más rápido que los gatos en 2024!\"\n",
    "+ 5,\"Los modelos de lenguaje están mejorando rápidamente #IA @openai\"\n",
    "+ 6,\"El nuevo iPhone 15 cuesta 1299 USD, impresionante!\"\n",
    "+ 7,\"No puedo esperar al fin de semana #ViernesFeliz\"\n",
    "+ 8,\"El COVID cambió el mundo en 2020.\"\n",
    "+ 9,\"@elonmusk está hablando de Marte otra vez 🚀\"\n",
    "+ 10,\"SpaCy y NLTK son geniales para el preprocesamiento de texto.\""
   ]
  },
  {
   "cell_type": "markdown",
   "id": "f01d84d3",
   "metadata": {},
   "source": [
    "**Archivo csv: tweets_lemmatized.csv**"
   ]
  },
  {
   "cell_type": "markdown",
   "id": "1159eb91",
   "metadata": {},
   "source": [
    "+ id,text,text_lemmatized\n",
    "+ 1,Mira este artículo sobre PLN https://huggingface.co #NLP @usuario 2025,mirar este artículo sobre PLN https://huggingface.co # NLP @usuario 2025\n",
    "+ 2,¡Hola Twitter! Probando mi primera publicación :),¡ Hola Twitter ! probar mi primero publicación :)\n",
    "+ 3,Me encanta aprender Machine Learning y Deep Learning #IA #ML,yo encantar aprender Machine Learning y Deep Learning # IA # ML\n",
    "+ 4,Los perros corren más rápido que los gatos en 2024!,el perro correr más rápido que el gato en 2024 !\n",
    "+ 5,Los modelos de lenguaje están mejorando rápidamente #IA @openai,el modelo de lenguaje estar mejorar rápidamente # IA @openai\n",
    "+ 6,\"El nuevo iPhone 15 cuesta 1299 USD, impresionante!\",\"el nuevo iphonir 15 costar 1299 USD , impresionante !\"\n",
    "+ 7,No puedo esperar al fin de semana #ViernesFeliz,no poder esperar al fin de semana # ViernesFeliz\n",
    "+ 8,El COVID cambió el mundo en 2020.,el COVID cambiar el mundo en 2020 .\n",
    "+ 9,@elonmusk está hablando de Marte otra vez 🚀,@elonmusk estar hablar de Marte otro vez 🚀\n",
    "+ 10,SpaCy y NLTK son geniales para el preprocesamiento de texto.,SpaCy y NLTK ser genial para el preprocesamiento de texto ."
   ]
  },
  {
   "cell_type": "markdown",
   "id": "6cfec9d6-3992-4737-ab8c-a086dd96bcdc",
   "metadata": {},
   "source": [
    "## 🥊 Desafío 3: Palabras con las puntuaciones medias más altas en TF-IDF\n",
    "\n",
    "Hemos obtenido valores de tf-idf para cada término en cada documento. Pero ¿qué nos dicen estos valores sobre el sentimiento de los tuits? ¿Hay palabras que sean especialmente informativas para tuits positivos/negativos?\n",
    "\n",
    "Para explorar esto, recopilemos los índices de todos los tuits positivos/negativos y calculemos las puntuaciones medias de tf-idf de las palabras que aparecen en cada categoría.\n",
    "\n",
    "Hemos proporcionado el siguiente código de inicio para guiarte:\n",
    "- Crea un subconjunto del dataframe `tweets` según la etiqueta `airline_sentiment` y recupera el índice de cada subconjunto (`.index`). Asigna el índice a `positive_index` o `negative_index`. Para cada subconjunto:\n",
    "- Obtener la representación td-idf\n",
    "- Obtener la media de los valores tf-idf del subconjunto con `.mean()`\n",
    "- Ordenar la media de los valores en orden descendente con `.sort_values()`\n",
    "- Obtener los 10 términos principales con `.head()`\n",
    "\n",
    "A continuación, ejecutar `pos.plot` y `neg.plot` para representar gráficamente las palabras con las puntuaciones medias tf-idf más altas para cada subconjunto."
   ]
  },
  {
   "cell_type": "code",
   "execution_count": null,
   "id": "56b5c819-e002-415c-a8fb-c520e1a37e09",
   "metadata": {},
   "outputs": [],
   "source": [
    "# Create a tfidf vectorizer\n",
    "vectorizer = TfidfVectorizer(lowercase=True,\n",
    "                             stop_words='english',\n",
    "                             min_df=2,\n",
    "                             max_df=0.95,\n",
    "                             max_features=None)\n",
    "\n",
    "# Fit and transform \n",
    "tf_dtm = vectorizer.fit_transform(tweets['text_lemmatized'])\n",
    "\n",
    "# Create a tf-idf dataframe\n",
    "tfidf = pd.DataFrame(tf_dtm.todense(),\n",
    "                     columns=vectorizer.get_feature_names_out(),\n",
    "                     index=tweets.index)"
   ]
  },
  {
   "cell_type": "code",
   "execution_count": 14,
   "id": "5d4c4e33-82c9-437c-bffc-3b0921a7d1c1",
   "metadata": {},
   "outputs": [],
   "source": [
    "# Complete the boolean masks \n",
    "positive_index = tweets[tweets['airline_sentiment'] == 'positive'].index\n",
    "negative_index = tweets[tweets['airline_sentiment'] == 'negative'].index"
   ]
  },
  {
   "cell_type": "code",
   "execution_count": 15,
   "id": "dc09bed5-ce7f-41e3-a56c-348d3b0770a3",
   "metadata": {},
   "outputs": [],
   "source": [
    "# Complete the following two lines\n",
    "pos = tfidf.loc[positive_index].mean().sort_values(ascending=False).head(10)\n",
    "neg = tfidf.loc[negative_index].mean().sort_values(ascending=False).head(10)"
   ]
  },
  {
   "cell_type": "code",
   "execution_count": 16,
   "id": "487448f8-1fd5-4909-a41e-977f23cec4bd",
   "metadata": {},
   "outputs": [
    {
     "data": {
      "image/png": "[encoded data removed]",
      "text/plain": [
       "<Figure size 640x480 with 1 Axes>"
      ]
     },
     "metadata": {},
     "output_type": "display_data"
    }
   ],
   "source": [
    "pos.plot(kind='barh', \n",
    "         xlim=(0, 0.18),\n",
    "         color='cornflowerblue',\n",
    "         title='Top 10 terms with the highest mean tf-idf values for positive tweets');"
   ]
  },
  {
   "cell_type": "code",
   "execution_count": 17,
   "id": "463b5f35-4965-47d0-8340-b932ee452df0",
   "metadata": {},
   "outputs": [
    {
     "data": {
      "image/png": "[encoded data removed]",
      "text/plain": [
       "<Figure size 640x480 with 1 Axes>"
      ]
     },
     "metadata": {},
     "output_type": "display_data"
    }
   ],
   "source": [
    "neg.plot(kind='barh', \n",
    "         xlim=(0, 0.18),\n",
    "         color='darksalmon',\n",
    "         title='Top 10 terms with the highest mean tf-idf values for negative tweets');"
   ]
  },
  {
   "cell_type": "markdown",
   "id": "6e42b23d",
   "metadata": {},
   "source": [
    "📌 Función TF-IDF.py"
   ]
  },
  {
   "cell_type": "code",
   "execution_count": null,
   "id": "5542bebe",
   "metadata": {},
   "outputs": [],
   "source": [
    "# Importaciones necesarias\n",
    "import pandas as pd\n",
    "import matplotlib.pyplot as plt\n",
    "from sklearn.feature_extraction.text import TfidfVectorizer\n",
    "\n",
    "# 1. Cargar dataset (ajusta la ruta si tu CSV no está en data/tweets.csv)\n",
    "tweets = pd.read_csv(\"tweets.csv\")\n",
    "\n",
    "# 2. Crear el vectorizador TF-IDF\n",
    "vectorizer = TfidfVectorizer(lowercase=True,\n",
    "                             stop_words='english',\n",
    "                             min_df=2,\n",
    "                             max_df=0.95)\n",
    "\n",
    "# 3. Ajustar y transformar usando la columna 'text'\n",
    "tf_dtm = vectorizer.fit_transform(tweets['text'].astype(str))\n",
    "\n",
    "# 4. DataFrame de TF-IDF\n",
    "tfidf = pd.DataFrame(tf_dtm.todense(),\n",
    "                     columns=vectorizer.get_feature_names_out(),\n",
    "                     index=tweets.index)\n",
    "\n",
    "# ⚠️ Verifica que tengas la columna 'airline_sentiment'\n",
    "if \"airline_sentiment\" not in tweets.columns:\n",
    "    raise ValueError(\"❌ El dataset no contiene la columna 'airline_sentiment'\")\n",
    "\n",
    "# 5. Subconjuntos por sentimiento\n",
    "positive_index = tweets[tweets['airline_sentiment'] == 'positive'].index\n",
    "negative_index = tweets[tweets['airline_sentiment'] == 'negative'].index\n",
    "\n",
    "# 6. Calcular medias TF-IDF y extraer top 10\n",
    "pos = tfidf.loc[positive_index].mean().sort_values(ascending=False).head(10)\n",
    "neg = tfidf.loc[negative_index].mean().sort_values(ascending=False).head(10)\n",
    "\n",
    "# 7. Graficar resultados\n",
    "fig, axes = plt.subplots(1, 2, figsize=(12, 5), sharex=True)\n",
    "\n",
    "pos.sort_values().plot(kind='barh', ax=axes[0],\n",
    "                       color='cornflowerblue',\n",
    "                       title='Top 10 palabras (POSITIVE tweets)')\n",
    "\n",
    "neg.sort_values().plot(kind='barh', ax=axes[1],\n",
    "                       color='darksalmon',\n",
    "                       title='Top 10 palabras (NEGATIVE tweets)')\n",
    "\n",
    "plt.tight_layout()\n",
    "plt.show()\n",
    "\n"
   ]
  },
  {
   "cell_type": "markdown",
   "id": "8280f8f7",
   "metadata": {},
   "source": [
    "**🔎 Explicación paso a paso**\n",
    "\n",
    "Este código lee tweets, calcula el peso TF-IDF de las palabras, separa por sentimiento (positivo/negativo) y muestra las 10 palabras más características de cada grupo en forma de gráfico.\n",
    "\n",
    "Implementa un análisis de TF-IDF (Term Frequency – Inverse Document Frequency) para identificar las palabras más representativas en tweets positivos y negativos de un dataset de aerolíneas.\n",
    "\n",
    "Que es lo que hace:\n",
    "\n",
    "1. Importación de librerías\n",
    "    - pandas → para manejar el dataset en formato CSV.\n",
    "    - matplotlib.pyplot → para graficar.\n",
    "    - TfidfVectorizer (scikit-learn) → para calcular las ponderaciones TF-IDF de las palabras en los tweets.\n",
    "\n",
    "2. Cargar el dataset\n",
    "    - Lee el archivo tweets.csv y lo guarda en un DataFrame de Pandas.\n",
    "\n",
    "3. Configurar y aplicar el vectorizador TF-IDF\n",
    "    - Convierte los tweets a bolsa de palabras con pesos TF-IDF.\n",
    "    - Elimina stopwords en inglés.\n",
    "    - Solo incluye palabras que aparecen en al menos 2 documentos (min_df=2) y en como máximo 95% de los documentos (max_df=0.95).\n",
    "\n",
    "    El resultado (tf_dtm) es una matriz donde las filas son tweets y las columnas son palabras, con valores de peso TF-IDF.\n",
    "\n",
    "4. Convertir a DataFrame\n",
    "    - Se transforma la matriz en un DataFrame para manipularla más fácilmente.\n",
    "\n",
    "5. Filtrar tweets por sentimiento\n",
    "    - Se crean dos listas de índices: uno con tweets positivos y otro con tweets negativos.\n",
    "\n",
    "6. Calcular las palabras más representativas\n",
    "    - Calcula el promedio de TF-IDF para cada palabra dentro de los tweets positivos y negativos.\n",
    "    - Extrae las 10 palabras más importantes en cada grupo.\n",
    "\n",
    "7. Graficar resultados\n",
    "    - Se generan dos gráficos de barras horizontales, mostrando en paralelo:\n",
    "    - Las palabras más frecuentes (según TF-IDF) en tweets positivos.\n",
    "    - Las palabras más frecuentes (según TF-IDF) en tweets negativos.\n"
   ]
  },
  {
   "attachments": {
    "image.png": {
     "image/png": "[encoded data removed]"
    }
   },
   "cell_type": "markdown",
   "id": "2167af59",
   "metadata": {},
   "source": [
    "✅ Salida esperada:\n",
    "\n",
    "![image.png](attachment:image.png)"
   ]
  }
 ],
 "metadata": {
  "kernelspec": {
   "display_name": "Python 3",
   "language": "python",
   "name": "python3"
  },
  "language_info": {
   "codemirror_mode": {
    "name": "ipython",
    "version": 3
   },
   "file_extension": ".py",
   "mimetype": "text/x-python",
   "name": "python",
   "nbconvert_exporter": "python",
   "pygments_lexer": "ipython3",
   "version": "3.12.10"
  }
 },
 "nbformat": 4,
 "nbformat_minor": 5
}
